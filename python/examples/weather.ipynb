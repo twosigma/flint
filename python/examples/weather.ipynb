{
 "cells": [
  {
   "cell_type": "code",
   "execution_count": null,
   "metadata": {
    "collapsed": true
   },
   "outputs": [],
   "source": [
    "from pyspark.sql import types\n",
    "from pyspark.sql.functions import col\n",
    "import ts.flint\n",
    "from ts.flint import FlintContext\n",
    "from ts.flint import summarizers"
   ]
  },
  {
   "cell_type": "code",
   "execution_count": null,
   "metadata": {
    "collapsed": true
   },
   "outputs": [],
   "source": [
    "fc = FlintContext(sqlContext)"
   ]
  },
  {
   "cell_type": "code",
   "execution_count": null,
   "metadata": {
    "collapsed": false
   },
   "outputs": [],
   "source": [
    "def date_parser(fmt):\n",
    "    @ts.flint.udf(types.LongType())\n",
    "    def parse(x):\n",
    "        dt = types.datetime.datetime.strptime(str(x), fmt)\n",
    "        return int(dt.strftime(\"%s%f\")) * 1000\n",
    "    return parse"
   ]
  },
  {
   "cell_type": "code",
   "execution_count": null,
   "metadata": {
    "collapsed": false
   },
   "outputs": [],
   "source": [
    "weather = (sqlContext.read.csv('weather.csv', header=True, inferSchema=True)\n",
    "           .withColumn('time', date_parser('%Y%m%d')(col('DATE'))))\n",
    "spy = (sqlContext.read.csv('spy.csv', header=True, inferSchema=True)\n",
    "       .withColumn('time', date_parser('%Y-%m-%d %H:%M:%S')(col('DATE'))))"
   ]
  },
  {
   "cell_type": "code",
   "execution_count": null,
   "metadata": {
    "collapsed": false
   },
   "outputs": [],
   "source": [
    "weather_df = fc.read.dataframe(weather, is_sorted=False)\n",
    "spy_df = fc.read.dataframe(spy, is_sorted=False)"
   ]
  },
  {
   "cell_type": "code",
   "execution_count": null,
   "metadata": {
    "collapsed": false
   },
   "outputs": [],
   "source": [
    "joined = spy_df.leftJoin(weather_df, tolerance=\"3d\")\n",
    "joined = joined.withColumn('change', joined.Close - joined.Open)"
   ]
  },
  {
   "cell_type": "code",
   "execution_count": null,
   "metadata": {
    "collapsed": false
   },
   "outputs": [],
   "source": [
    "joined.summarize(summarizers.linear_regression('change', ['PRCP', 'SNOW'])).toPandas()"
   ]
  }
 ],
 "metadata": {
  "kernelspec": {
   "display_name": "Python 3",
   "language": "python",
   "name": "python3"
  },
  "language_info": {
   "codemirror_mode": {
    "name": "ipython",
    "version": 3
   },
   "file_extension": ".py",
   "mimetype": "text/x-python",
   "name": "python",
   "nbconvert_exporter": "python",
   "pygments_lexer": "ipython3",
   "version": "3.5.3"
  }
 },
 "nbformat": 4,
 "nbformat_minor": 2
}
