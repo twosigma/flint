{
 "cells": [
  {
   "cell_type": "markdown",
   "metadata": {},
   "source": [
    "# Flint Python Cookbook"
   ]
  },
  {
   "cell_type": "code",
   "execution_count": null,
   "metadata": {
    "collapsed": true
   },
   "outputs": [],
   "source": [
    "from   ts.flint              import FlintContext\n",
    "from   ts.flint              import TimeSeriesDataFrame\n",
    "from   ts.flint              import summarizers, windows"
   ]
  },
  {
   "cell_type": "markdown",
   "metadata": {},
   "source": [
    "## Basic arithmetic on each row\n",
    "### Calculate logarithm of a column"
   ]
  },
  {
   "cell_type": "code",
   "execution_count": null,
   "metadata": {
    "collapsed": false
   },
   "outputs": [],
   "source": [
    "df = price.withColumn('logVolume', pyspark_fn.log(price.volume))\n",
    "df.show()"
   ]
  },
  {
   "cell_type": "markdown",
   "metadata": {},
   "source": [
    "### Raise a column to an exponent"
   ]
  },
  {
   "cell_type": "code",
   "execution_count": null,
   "metadata": {
    "collapsed": false
   },
   "outputs": [],
   "source": [
    "df = price.withColumn('squaredVolume', pyspark_fn.pow(price.volume, 2))\n",
    "df.show()"
   ]
  },
  {
   "cell_type": "markdown",
   "metadata": {},
   "source": [
    "### Calculate difference between two columns"
   ]
  },
  {
   "cell_type": "code",
   "execution_count": null,
   "metadata": {
    "collapsed": false
   },
   "outputs": [],
   "source": [
    "df = price.withColumn('priceChange', price.closePrice - price.openPrice)\n",
    "df.show()"
   ]
  },
  {
   "cell_type": "markdown",
   "metadata": {},
   "source": [
    "### Calculate percent change between two columns"
   ]
  },
  {
   "cell_type": "code",
   "execution_count": null,
   "metadata": {
    "collapsed": false
   },
   "outputs": [],
   "source": [
    "@ts.flint.udf(DoubleType())\n",
    "def pricePercentChange(openPrice, closePrice):\n",
    "    if openPrice > 0:\n",
    "        return (closePrice - openPrice) / openPrice\n",
    "    else:\n",
    "        return None\n",
    "\n",
    "df = price.withColumn('pricePercentChange', pricePercentChange(price.openPrice, price.closePrice))\n",
    "df.show()"
   ]
  },
  {
   "cell_type": "markdown",
   "metadata": {},
   "source": [
    "### Get the first two characters of a column"
   ]
  },
  {
   "cell_type": "code",
   "execution_count": null,
   "metadata": {
    "collapsed": false
   },
   "outputs": [],
   "source": [
    "@ts.flint.udf(StringType())\n",
    "def gicsSector(gicsCode):\n",
    "    return gicsCode[0:2]\n",
    "\n",
    "df = active_inst.withColumn(\"gicsSector\", gicsSector(active_inst.gicsCode))\n",
    "df.show()"
   ]
  },
  {
   "cell_type": "markdown",
   "metadata": {},
   "source": [
    "## Filtering\n",
    "### Select rows where the price went up"
   ]
  },
  {
   "cell_type": "code",
   "execution_count": null,
   "metadata": {
    "collapsed": false
   },
   "outputs": [],
   "source": [
    "df = price.filter(price.closePrice > price.openPrice)\n",
    "df.show()"
   ]
  },
  {
   "cell_type": "markdown",
   "metadata": {},
   "source": [
    "### Filter using a regular expression"
   ]
  },
  {
   "cell_type": "code",
   "execution_count": null,
   "metadata": {
    "collapsed": false
   },
   "outputs": [],
   "source": [
    "df = active_inst.dropna(subset=[\"gicsCode\"])\n",
    "df = df.filter(df.gicsCode.startswith(\"45\"))\n",
    "df.show()"
   ]
  },
  {
   "cell_type": "markdown",
   "metadata": {},
   "source": [
    "### Remove all rows that don't have a value in a particular column"
   ]
  },
  {
   "cell_type": "code",
   "execution_count": null,
   "metadata": {
    "collapsed": false
   },
   "outputs": [],
   "source": [
    "df = active_inst.dropna(subset=[\"gicsCode\"])\n",
    "df.show()"
   ]
  },
  {
   "cell_type": "markdown",
   "metadata": {},
   "source": [
    "## Joining\n",
    "### Join trades to quotes"
   ]
  },
  {
   "cell_type": "code",
   "execution_count": null,
   "metadata": {
    "collapsed": false
   },
   "outputs": [],
   "source": [
    "df = trade.leftJoin(quote, tolerance=\"1min\", key=\"tid\")\n",
    "df.show()"
   ]
  },
  {
   "cell_type": "markdown",
   "metadata": {},
   "source": [
    "## Time-based Windowing\n",
    "\n",
    "### Exponential moving average"
   ]
  },
  {
   "cell_type": "code",
   "execution_count": null,
   "metadata": {
    "collapsed": false
   },
   "outputs": [],
   "source": [
    "# Exponential moving average over the last 10 days with a decay factor of 0.9 for IBM\n",
    "\n",
    "def EMA(decay):\n",
    "    @ts.flint.udf(DoubleType())\n",
    "    def _EMA(time, window):\n",
    "        from pandas import Timedelta\n",
    "        num = 0\n",
    "        den = 0\n",
    "        currentnanos = time\n",
    "        for row in window:\n",
    "            rownanos = row.time\n",
    "            days_between = Timedelta(nanoseconds=(currentnanos - rownanos)).days\n",
    "            weight = pow(decay, days_between)\n",
    "            num += weight * row.closePrice\n",
    "            den += weight\n",
    "        return (num/den) if den > 0 else 0\n",
    "    return _EMA\n",
    "\n",
    "decay = 0.9\n",
    "\n",
    "df = price.addWindows(windows.past_absolute_time(\"10days\"))\n",
    "\n",
    "df = df.withColumn(\"EMA\", EMA(decay)(df.time, df.window_past_10days))\n",
    "df.show()"
   ]
  },
  {
   "cell_type": "markdown",
   "metadata": {},
   "source": [
    "### Moving average"
   ]
  },
  {
   "cell_type": "code",
   "execution_count": null,
   "metadata": {
    "collapsed": false
   },
   "outputs": [],
   "source": [
    "# Moving average over the last two weeks for IBM\n",
    "\n",
    "@ts.flint.udf(DoubleType())\n",
    "def movingAverage(window):\n",
    "    nrows = len(window)\n",
    "    if nrows == 0:\n",
    "        return 0\n",
    "    return sum(row.closePrice for row in window) / nrows\n",
    "\n",
    "df = price.addWindows(windows.past_absolute_time(\"14days\"))\n",
    "df = df.withColumn(\"movingAverage\", movingAverage(df.window_past_14days))\n",
    "df.show()"
   ]
  },
  {
   "cell_type": "code",
   "execution_count": null,
   "metadata": {
    "collapsed": false
   },
   "outputs": [],
   "source": [
    "# Moving average over the last two weeks for all tids in ACTIVE_3000_US\n",
    "\n",
    "df = price.addWindows(windows.past_absolute_time(\"14days\"), key=\"tid\")\n",
    "df = df.withColumn(\"movingAverage\", movingAverage(df.window_past_14days))\n",
    "df.show()"
   ]
  },
  {
   "cell_type": "markdown",
   "metadata": {},
   "source": [
    "## Cycles\n",
    "\n",
    "`TimeSeriesDataFrame.addColumnsForCycle()` can be used to compute a new column based on all rows that share a timestamp.\n",
    "\n",
    "### Adding universe info"
   ]
  },
  {
   "cell_type": "code",
   "execution_count": null,
   "metadata": {
    "collapsed": false
   },
   "outputs": [],
   "source": [
    "# Add a column containing the number of instruments in the universe on each day\n",
    "\n",
    "def universeSize(rows):\n",
    "    size = len(rows)\n",
    "    return {row:size for row in rows}\n",
    "\n",
    "df = active_price.addColumnsForCycle(\n",
    "            {\"universeSize\": (IntegerType(), universeSize)})\n",
    "df.show()"
   ]
  },
  {
   "cell_type": "code",
   "execution_count": null,
   "metadata": {
    "collapsed": false
   },
   "outputs": [],
   "source": [
    "# Add a column containing the number of instruments that share a GICS code\n",
    "# with the current row on each day\n",
    "\n",
    "df = active_inst.addColumnsForCycle(\n",
    "            {\"universeSize\": (IntegerType(), universeSize)},\n",
    "            key=\"gicsCode\")\n",
    "df.show()"
   ]
  },
  {
   "cell_type": "code",
   "execution_count": null,
   "metadata": {
    "collapsed": false
   },
   "outputs": [],
   "source": [
    "# Add a column containing the number of instruments that share a GICS sector\n",
    "# with the current row on each day\n",
    "\n",
    "@ts.flint.udf(StringType())\n",
    "def gicsSector(gicsCode):\n",
    "    return gicsCode[0:2] if gicsCode else \"\"\n",
    "\n",
    "df = active_inst.withColumn(\"gicsSector\", gicsSector(active_inst.gicsCode))\n",
    "df = df.addColumnsForCycle(\n",
    "            {\"universeSize\": (IntegerType(), universeSize)},\n",
    "            key=\"gicsSector\")\n",
    "df.show()"
   ]
  },
  {
   "cell_type": "markdown",
   "metadata": {},
   "source": [
    "## Z-score"
   ]
  },
  {
   "cell_type": "code",
   "execution_count": null,
   "metadata": {
    "collapsed": false
   },
   "outputs": [],
   "source": [
    "# Compute the Z-score across an interval\n",
    "\n",
    "import math\n",
    "\n",
    "def volumeZScore(rows):\n",
    "    size = len(rows)\n",
    "    if size <= 1:\n",
    "        return {row:0 for row in rows}\n",
    "    mean = sum(row.volume for row in rows) / size\n",
    "    stddev = math.sqrt(sum((row.closePrice - mean)**2 for row in rows)) / (size - 1)\n",
    "    return {row:(row.closePrice - mean)/stddev for row in rows}\n",
    "\n",
    "df = active_price.addColumnsForCycle(\n",
    "            {\"volumeZScore\": (DoubleType(), volumeZScore)})\n",
    "df.show()"
   ]
  },
  {
   "cell_type": "markdown",
   "metadata": {},
   "source": [
    "### Ranking"
   ]
  },
  {
   "cell_type": "code",
   "execution_count": null,
   "metadata": {
    "collapsed": false
   },
   "outputs": [],
   "source": [
    "# Add a column with rankings from 0.0 to 1.0 relative to other rows with the same timestamp\n",
    "\n",
    "import scipy.stats as stats\n",
    "\n",
    "def rank_by(column):\n",
    "    def rank(rows):\n",
    "        ranks = stats.rankdata([row[column] for row in rows])\n",
    "        return dict(zip(rows, (float(r)/len(ranks) for r in ranks)))\n",
    "    return rank\n",
    "\n",
    "df = active_price.addColumnsForCycle(\n",
    "            {\"r\": (DoubleType(), rank_by('volume'))})\n",
    "df.show()"
   ]
  },
  {
   "cell_type": "markdown",
   "metadata": {},
   "source": [
    "## Intervalizing\n",
    "### Volume-weighted average price"
   ]
  },
  {
   "cell_type": "code",
   "execution_count": null,
   "metadata": {
    "collapsed": false
   },
   "outputs": [],
   "source": [
    "# Volume weighted average price for every 30 minute trading interval for IBM\n",
    "\n",
    "@ts.flint.udf(DoubleType())\n",
    "def meanPrice(rows):\n",
    "    weighted_sum = sum(row.tradePrice * row.tradeSize for row in rows)\n",
    "    return weighted_sum / sum(row.tradeSize for row in rows)\n",
    "\n",
    "df = trade.groupByInterval(intervals)\n",
    "df = df.withColumn(\"meanPrice\", meanPrice(df.rows))\n",
    "df = df.drop(\"rows\")\n",
    "df.show()"
   ]
  },
  {
   "cell_type": "markdown",
   "metadata": {},
   "source": [
    "## Aggregating\n",
    "### Average daily volume"
   ]
  },
  {
   "cell_type": "code",
   "execution_count": null,
   "metadata": {
    "collapsed": false
   },
   "outputs": [],
   "source": [
    "# Average daily volume for all tids in u.ACTIVE_3000_US\n",
    "\n",
    "df = active_price.summarize(summarizers.nth_moment(\"volume\", 1), key=\"tid\")\n",
    "df.show()"
   ]
  }
 ],
 "metadata": {
  "anaconda-cloud": {},
  "kernelspec": {
   "display_name": "Python [default]",
   "language": "python",
   "name": "python3"
  },
  "language_info": {
   "codemirror_mode": {
    "name": "ipython",
    "version": 3
   },
   "file_extension": ".py",
   "mimetype": "text/x-python",
   "name": "python",
   "nbconvert_exporter": "python",
   "pygments_lexer": "ipython3",
   "version": "3.5.2"
  }
 },
 "nbformat": 4,
 "nbformat_minor": 0
}
